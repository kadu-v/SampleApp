{
  "nbformat": 4,
  "nbformat_minor": 0,
  "metadata": {
    "colab": {
      "provenance": []
    },
    "kernelspec": {
      "name": "python3",
      "display_name": "Python 3"
    },
    "language_info": {
      "name": "python"
    }
  },
  "cells": [
    {
      "cell_type": "code",
      "execution_count": 1,
      "metadata": {
        "id": "AvDM0g4J4wlr"
      },
      "outputs": [],
      "source": [
        "import numpy as np\n",
        "import tensorflow as tf\n",
        "import tensorflow.keras as K\n"
      ]
    },
    {
      "cell_type": "code",
      "source": [
        "inputs = K.Input(shape=(10, 10, 3))\n",
        "x = tf.reduce_mean(inputs, axis=3, keepdims=True)\n",
        "model = K.Model(inputs=inputs, outputs=x)"
      ],
      "metadata": {
        "id": "NW0fyz4p5KUY"
      },
      "execution_count": 13,
      "outputs": []
    },
    {
      "cell_type": "code",
      "source": [
        "model.compile()"
      ],
      "metadata": {
        "id": "VD2wRQ3h5hCd"
      },
      "execution_count": 15,
      "outputs": []
    },
    {
      "cell_type": "code",
      "source": [
        "model.save(\"mean_only\")"
      ],
      "metadata": {
        "id": "bYYsX_a55zEl"
      },
      "execution_count": 16,
      "outputs": []
    },
    {
      "cell_type": "code",
      "source": [
        "input_model = \"mean_only\"\n",
        "output_model = \"./mean_only.tflite\"\n",
        "\n",
        "#to tensorflow lite\n",
        "converter = tf.lite.TFLiteConverter.from_saved_model(input_model)\n",
        "tflite_quant_model = converter.convert()\n",
        "with open(output_model, 'wb') as o_:\n",
        "    o_.write(tflite_quant_model)"
      ],
      "metadata": {
        "id": "o8RYD3kd57fn"
      },
      "execution_count": 17,
      "outputs": []
    },
    {
      "cell_type": "code",
      "source": [],
      "metadata": {
        "id": "telRxdVi6Whh"
      },
      "execution_count": null,
      "outputs": []
    }
  ]
}